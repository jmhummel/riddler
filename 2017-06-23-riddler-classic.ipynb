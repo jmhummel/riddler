{
 "cells": [
  {
   "cell_type": "markdown",
   "metadata": {},
   "source": [
    "# https://fivethirtyeight.com/features/can-you-drink-more-coffee-than-your-coworkers/"
   ]
  },
  {
   "cell_type": "code",
   "execution_count": 2,
   "metadata": {
    "collapsed": true
   },
   "outputs": [],
   "source": [
    "import random\n",
    "import matplotlib.pyplot as plt\n",
    "import numpy as np"
   ]
  },
  {
   "cell_type": "code",
   "execution_count": 12,
   "metadata": {
    "collapsed": true
   },
   "outputs": [],
   "source": [
    "def create_players(n):\n",
    "    players = []\n",
    "    for _ in xrange(n):\n",
    "        players.append(random.random())\n",
    "    return players"
   ]
  },
  {
   "cell_type": "code",
   "execution_count": 21,
   "metadata": {
    "collapsed": true
   },
   "outputs": [],
   "source": [
    "def run(players):\n",
    "    coffee = 1\n",
    "    received = {player:0 for player in players}\n",
    "    random.shuffle(players)\n",
    "    while \n",
    "    for player in players:\n",
    "        if coffee > player:\n",
    "            received[player] += player\n",
    "            coffee -= player\n",
    "        else:\n",
    "            break\n",
    "    return received"
   ]
  },
  {
   "cell_type": "code",
   "execution_count": 23,
   "metadata": {
    "collapsed": false
   },
   "outputs": [],
   "source": [
    "def sim(rounds, players):\n",
    "    totals = {player:0 for player in players}\n",
    "    for _ in xrange(rounds):\n",
    "        for player, received in run(players).iteritems():\n",
    "            totals[player] += received\n",
    "    for player, received in totals.iteritems():\n",
    "        received /= float(rounds)\n",
    "    return totals"
   ]
  },
  {
   "cell_type": "code",
   "execution_count": 46,
   "metadata": {
    "collapsed": false,
    "scrolled": true
   },
   "outputs": [],
   "source": [
    "players = create_players(1000)\n",
    "# players"
   ]
  },
  {
   "cell_type": "code",
   "execution_count": 29,
   "metadata": {
    "collapsed": false
   },
   "outputs": [
    {
     "data": {
      "text/plain": [
       "{0.023027378216466277: 0,\n",
       " 0.0626996980339849: 0.0626996980339849,\n",
       " 0.11907038326620145: 0.11907038326620145,\n",
       " 0.2385423412448361: 0.2385423412448361,\n",
       " 0.244175054070343: 0,\n",
       " 0.2502190411543448: 0,\n",
       " 0.25181478538741997: 0,\n",
       " 0.5138953977892264: 0.5138953977892264,\n",
       " 0.5452707888632227: 0,\n",
       " 0.8713003343840011: 0}"
      ]
     },
     "execution_count": 29,
     "metadata": {},
     "output_type": "execute_result"
    }
   ],
   "source": [
    "run(players)"
   ]
  },
  {
   "cell_type": "code",
   "execution_count": 44,
   "metadata": {
    "collapsed": false,
    "scrolled": true
   },
   "outputs": [
    {
     "data": {
      "text/plain": [
       "{0.0033710182550074075: 8.808470700334732,\n",
       " 0.006703871105209092: 17.309395193650143,\n",
       " 0.02615574452109115: 67.79568979866826,\n",
       " 0.05620305738892184: 140.67625264447767,\n",
       " 0.08708733320788775: 220.15677834953004,\n",
       " 0.0919817231769462: 224.89531316764152,\n",
       " 0.09228336990575425: 221.48008777380284,\n",
       " 0.09756593954647841: 241.47570037754474,\n",
       " 0.10527449978537495: 257.50142647501974,\n",
       " 0.11195132985698164: 266.8919703790554,\n",
       " 0.11461340690569721: 279.4274860360968,\n",
       " 0.11517382415169486: 264.09357877983814,\n",
       " 0.11922808117660566: 291.0357461520947,\n",
       " 0.13438581195362398: 312.9845560399836,\n",
       " 0.13591862943930266: 322.6708262888842,\n",
       " 0.14177154781595647: 325.2239306897911,\n",
       " 0.16717874128891042: 377.99113405424157,\n",
       " 0.17312959346747037: 383.82830871739293,\n",
       " 0.18344289635073874: 409.44454465485455,\n",
       " 0.20823557155007077: 453.95354597914303,\n",
       " 0.21560412906721527: 463.1176692363859,\n",
       " 0.2253122415860207: 490.0541254496089,\n",
       " 0.22580092418915876: 481.4075703713082,\n",
       " 0.24737153470596074: 526.4066258542879,\n",
       " 0.25002902975362806: 518.560207709041,\n",
       " 0.26163787452662846: 537.1425564031663,\n",
       " 0.27167035248618643: 545.7857381447495,\n",
       " 0.27385435708232253: 555.9243448771025,\n",
       " 0.2825063943331583: 574.3354996793039,\n",
       " 0.3463149328179289: 661.8078366150351,\n",
       " 0.3624993152063838: 647.7862762737988,\n",
       " 0.3664122865546372: 692.5192215882878,\n",
       " 0.3827982876971042: 677.5529692238803,\n",
       " 0.38544894278197595: 711.5387483755297,\n",
       " 0.38595832285025744: 716.3386472100813,\n",
       " 0.39393137461973216: 748.0756804028485,\n",
       " 0.40704038256337194: 712.3206694859199,\n",
       " 0.4091333174340299: 740.1221712381559,\n",
       " 0.41649970193106856: 750.5324628798044,\n",
       " 0.4198539741156011: 751.9584676410674,\n",
       " 0.4310297003021917: 755.1640349294693,\n",
       " 0.43398990855606856: 769.4641078699149,\n",
       " 0.4365414195526416: 765.6936498953635,\n",
       " 0.4368272932056311: 772.3106543875449,\n",
       " 0.438288979897031: 733.2574633677417,\n",
       " 0.454306067225426: 766.4143354092818,\n",
       " 0.47710624848824146: 804.8782411996599,\n",
       " 0.4890708261387573: 791.3165966925226,\n",
       " 0.491971625668841: 808.3093809739025,\n",
       " 0.5309788110321741: 817.707368989529,\n",
       " 0.5320831286837854: 835.9025951622194,\n",
       " 0.5332983061690996: 840.4781305224803,\n",
       " 0.5370830796359809: 849.6654319841161,\n",
       " 0.5452437483208744: 865.3018285852545,\n",
       " 0.5474622010180413: 855.6834201911734,\n",
       " 0.5497398846499383: 848.7983818995349,\n",
       " 0.5579924679518483: 840.3366567354954,\n",
       " 0.5661387014801247: 836.1868620861195,\n",
       " 0.5784108091745126: 828.2842787379178,\n",
       " 0.5816430904962808: 893.985430092803,\n",
       " 0.5848283046009222: 875.4879719875935,\n",
       " 0.5912413141994837: 883.9057647282098,\n",
       " 0.6093974427672059: 869.6101508288,\n",
       " 0.6148561716160279: 903.2237161039359,\n",
       " 0.6421542584593047: 868.192557436974,\n",
       " 0.6437429589072433: 879.352881867322,\n",
       " 0.6490654891226882: 860.6608385766722,\n",
       " 0.6698667625943462: 929.1051997183382,\n",
       " 0.6727024715732023: 909.4937415669538,\n",
       " 0.6956158683899989: 899.4313178282456,\n",
       " 0.7021808946624594: 918.452610218473,\n",
       " 0.7074468925137944: 946.563942183441,\n",
       " 0.7116462707771685: 928.6983833641845,\n",
       " 0.725376112027819: 932.1083039557386,\n",
       " 0.725908908644872: 1027.8870146411641,\n",
       " 0.7444850555638644: 993.1430641221664,\n",
       " 0.7465739856011293: 1005.6351586047068,\n",
       " 0.7598489415477228: 999.9612070767951,\n",
       " 0.7691069215445635: 1019.0666710465451,\n",
       " 0.771816350869227: 925.4078046922165,\n",
       " 0.7922360906505517: 899.9801989790409,\n",
       " 0.7949152154594077: 939.5897846729936,\n",
       " 0.8172405332136262: 1006.023096385983,\n",
       " 0.8360185668599711: 958.0772776215124,\n",
       " 0.8389016754732834: 931.1808597753326,\n",
       " 0.8393476057615532: 996.3056080389463,\n",
       " 0.8562195230396407: 1023.1823300323458,\n",
       " 0.8579445911409668: 965.1876650335745,\n",
       " 0.8793357866452004: 1023.5468556550354,\n",
       " 0.8812443766076318: 987.874946177132,\n",
       " 0.8922979800462564: 927.097601268047,\n",
       " 0.9090580465566124: 888.1497114858229,\n",
       " 0.9386096176487655: 908.5741098840172,\n",
       " 0.9489627484385574: 943.2689719479346,\n",
       " 0.95046461048113: 978.0280841850931,\n",
       " 0.9537611015880206: 1005.2642010737901,\n",
       " 0.9612349916371117: 996.8006863276665,\n",
       " 0.9704984794842121: 1058.8138411172974,\n",
       " 0.9758607972724279: 1044.1710530814805,\n",
       " 0.9873510369057948: 979.4522286105584}"
      ]
     },
     "execution_count": 44,
     "metadata": {},
     "output_type": "execute_result"
    }
   ],
   "source": [
    "results = sim(100000, players)\n",
    "results"
   ]
  },
  {
   "cell_type": "code",
   "execution_count": 45,
   "metadata": {
    "collapsed": false
   },
   "outputs": [
    {
     "data": {
      "image/png": "[encoded data removed]",
      "text/plain": [
       "<matplotlib.figure.Figure at 0x1149f23d0>"
      ]
     },
     "metadata": {},
     "output_type": "display_data"
    }
   ],
   "source": [
    "plt.scatter(results.keys(), results.values())\n",
    "plt.show()"
   ]
  },
  {
   "cell_type": "code",
   "execution_count": null,
   "metadata": {
    "collapsed": false,
    "scrolled": true
   },
   "outputs": [],
   "source": [
    "plt.hist(l, bins=range(0,8))\n",
    "# Mean\n",
    "# plt.axvline(np.mean(l), color='red') \n",
    "plt.axvline(np.mean(l), color='red') \n",
    "plt.show()\n",
    "print 'Expected number of games for 50% chance:', np.mean(l)"
   ]
  }
 ],
 "metadata": {
  "kernelspec": {
   "display_name": "Python 2",
   "language": "python",
   "name": "python2"
  },
  "language_info": {
   "codemirror_mode": {
    "name": "ipython",
    "version": 2
   },
   "file_extension": ".py",
   "mimetype": "text/x-python",
   "name": "python",
   "nbconvert_exporter": "python",
   "pygments_lexer": "ipython2",
   "version": "2.7.13"
  }
 },
 "nbformat": 4,
 "nbformat_minor": 2
}
